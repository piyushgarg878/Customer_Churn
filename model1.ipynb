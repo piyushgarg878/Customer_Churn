{
 "cells": [
  {
   "cell_type": "code",
   "execution_count": null,
   "id": "45f16579-723a-4ac4-9769-f4abcd4601cd",
   "metadata": {},
   "outputs": [],
   "source": [
    "import os\n",
    "for dirname, _, filenames in os.walk('/kaggle/input'):\n",
    "    for filename in filenames:\n",
    "        print(os.path.join(dirname, filename))"
   ]
  },
  {
   "cell_type": "code",
   "execution_count": null,
   "id": "574d1b57-1f8f-4538-bea4-674868b7aab5",
   "metadata": {},
   "outputs": [],
   "source": [
    "import numpy as np\n",
    "import pandas as pd\n",
    "import matplotlib.pyplot as plt\n",
    "import seaborn as sns\n",
    "from sklearn.preprocessing import StandardScaler\n",
    "\n",
    "%matplotlib inline"
   ]
  },
  {
   "cell_type": "code",
   "execution_count": null,
   "id": "9a23cc8a",
   "metadata": {},
   "outputs": [],
   "source": [
    "df=pd.read_excel('Dataset.xlsx',sheet_name='E Comm')\n",
    "df.head()"
   ]
  },
  {
   "cell_type": "code",
   "execution_count": null,
   "id": "829d6786",
   "metadata": {},
   "outputs": [],
   "source": [
    "df.shape"
   ]
  },
  {
   "cell_type": "code",
   "execution_count": null,
   "id": "e47af6ac",
   "metadata": {},
   "outputs": [],
   "source": [
    "df.duplicated().sum()"
   ]
  },
  {
   "cell_type": "code",
   "execution_count": null,
   "id": "ba97c77d",
   "metadata": {},
   "outputs": [],
   "source": [
    "df.isnull().sum()"
   ]
  },
  {
   "cell_type": "code",
   "execution_count": null,
   "id": "c85cf7a2",
   "metadata": {},
   "outputs": [],
   "source": [
    "df.dtypes"
   ]
  },
  {
   "cell_type": "code",
   "execution_count": null,
   "id": "84848ef1",
   "metadata": {},
   "outputs": [],
   "source": [
    "for i in df.columns:\n",
    "    if df[i].dtypes == 'object':\n",
    "        print(i)\n",
    "        print()\n",
    "        print('the values are:') \n",
    "        print(df[i].value_counts())\n",
    "        print()\n",
    "        print()"
   ]
  },
  {
   "cell_type": "code",
   "execution_count": null,
   "id": "63a9078f",
   "metadata": {},
   "outputs": [],
   "source": [
    "df1=df.copy()  \n"
   ]
  },
  {
   "cell_type": "code",
   "execution_count": null,
   "id": "e5a3121b",
   "metadata": {},
   "outputs": [],
   "source": [
    "df.drop(['CustomerID'],axis=1, inplace=True)"
   ]
  },
  {
   "cell_type": "code",
   "execution_count": null,
   "id": "e9c8c20c",
   "metadata": {},
   "outputs": [],
   "source": [
    "for i in df.columns:\n",
    "    if df[i].isnull().sum() > 0:\n",
    "        print(i)\n",
    "        print('the total null values are:', df[i].isnull().sum())\n",
    "        print('the datatype is', df[i].dtypes)\n",
    "        print()"
   ]
  },
  {
   "cell_type": "code",
   "execution_count": null,
   "id": "4204ac9d",
   "metadata": {},
   "outputs": [],
   "source": [
    "df['Churn'] = df['Churn'].astype('object')\n",
    "df['CityTier'] = df['CityTier'].astype('object')"
   ]
  },
  {
   "cell_type": "code",
   "execution_count": null,
   "id": "25fe0990",
   "metadata": {},
   "outputs": [],
   "source": [
    "df.describe().transpose()"
   ]
  },
  {
   "cell_type": "code",
   "execution_count": null,
   "id": "40fd3556",
   "metadata": {},
   "outputs": [],
   "source": [
    "for i in df.columns:\n",
    "    if df[i].isnull().sum() > 0:\n",
    "        df[i]=df[i].fillna(df[i].median())\n",
    "df.isnull().sum()\n",
    "df.head()"
   ]
  },
  {
   "cell_type": "markdown",
   "id": "469011b3",
   "metadata": {},
   "source": [
    "## Treating outliers"
   ]
  },
  {
   "cell_type": "code",
   "execution_count": null,
   "id": "d158df2c",
   "metadata": {},
   "outputs": [],
   "source": [
    "plt.figure(figsize=(50,10))\n",
    "sns.boxplot(data=df)\n",
    "plt.title('The boxplot to study outliers')\n",
    "plt.xlabel('Variables that predict the customer churn')\n",
    "plt.ylabel('Values')"
   ]
  },
  {
   "cell_type": "markdown",
   "id": "a0a83e30",
   "metadata": {},
   "source": [
    "after checking outliers now we remove those outliers"
   ]
  },
  {
   "cell_type": "code",
   "execution_count": null,
   "id": "94a52f17",
   "metadata": {},
   "outputs": [],
   "source": [
    "def remove_outlier(col):\n",
    "    sorted(col)\n",
    "    Q1,Q3=np.percentile(col,[25,75])\n",
    "    IQR=Q3-Q1\n",
    "    lr= Q1-(1.5 * IQR)\n",
    "    ur= Q3+(1.5 * IQR)\n",
    "    return lr, ur\n",
    "\n",
    "df.columns"
   ]
  },
  {
   "cell_type": "code",
   "execution_count": null,
   "id": "e982f8c2",
   "metadata": {},
   "outputs": [],
   "source": [
    "for column in df.columns:\n",
    "    if df[column].dtype !='object':\n",
    "        lr,ur=remove_outlier(df[column])\n",
    "        df[column]=np.where(df[column]>ur,ur,df[column])\n",
    "        df[column]=np.where(df[column]<lr,lr,df[column])"
   ]
  },
  {
   "cell_type": "markdown",
   "id": "7ae7eb13",
   "metadata": {},
   "source": [
    "Now plotting again "
   ]
  },
  {
   "cell_type": "code",
   "execution_count": null,
   "id": "af367ae7",
   "metadata": {},
   "outputs": [],
   "source": [
    "plt.figure(figsize=(50,10))\n",
    "sns.boxplot(data=df)\n",
    "plt.title('The boxplot to study outliers')\n",
    "plt.xlabel('Variables that predict the customer churn')\n",
    "plt.ylabel('Values')"
   ]
  },
  {
   "cell_type": "markdown",
   "id": "370c4698",
   "metadata": {},
   "source": [
    "##Adding a new variable \n",
    "cashback per order -> cashbackamout+ordercount"
   ]
  },
  {
   "cell_type": "code",
   "execution_count": null,
   "id": "149fd428",
   "metadata": {},
   "outputs": [],
   "source": [
    "df['avg_cashbk_per_order']=df['CashbackAmount']/df['OrderCount']"
   ]
  },
  {
   "cell_type": "code",
   "execution_count": null,
   "id": "71d2ac36",
   "metadata": {},
   "outputs": [],
   "source": [
    "Churn_perc = round((df['Churn'][df['Churn']==1].count()*100/df['Churn'][df['Churn']==0].count()),2)\n",
    "print(Churn_perc)\n"
   ]
  },
  {
   "cell_type": "markdown",
   "id": "d133972a",
   "metadata": {},
   "source": [
    "## Data Analysis \n",
    "1) univariate analysis"
   ]
  },
  {
   "cell_type": "code",
   "execution_count": null,
   "id": "d0f29fa5",
   "metadata": {},
   "outputs": [],
   "source": [
    "cat=[]\n",
    "num=[]\n",
    "for i in df.columns:\n",
    "  if df[i].dtype=='object':\n",
    "    cat.append(i)\n",
    "  else:\n",
    "    num.append(i)\n",
    "print('cat = ',cat)\n",
    "print('num = ',num)"
   ]
  },
  {
   "cell_type": "code",
   "execution_count": null,
   "id": "764957ad",
   "metadata": {},
   "outputs": [],
   "source": [
    "df[cat].describe().T"
   ]
  },
  {
   "cell_type": "code",
   "execution_count": null,
   "id": "988f228d",
   "metadata": {},
   "outputs": [],
   "source": [
    "for i in cat:\n",
    "    print(i)\n",
    "    print()\n",
    "    print(df[i].value_counts())\n",
    "    print()\n",
    "    print()"
   ]
  },
  {
   "cell_type": "code",
   "execution_count": null,
   "id": "8dbf390f",
   "metadata": {},
   "outputs": [],
   "source": [
    "df[num].describe().T"
   ]
  },
  {
   "cell_type": "code",
   "execution_count": null,
   "id": "58c4feda",
   "metadata": {},
   "outputs": [],
   "source": [
    "df[num].hist(figsize=(40,40))"
   ]
  },
  {
   "cell_type": "code",
   "execution_count": null,
   "id": "70fc75c4",
   "metadata": {},
   "outputs": [],
   "source": [
    "fig, ax = plt.subplots(8, 2, figsize=(40, 40))\n",
    "for i, subplot in zip(num, ax.flatten()):\n",
    "    sns.histplot(df[i], ax=subplot)"
   ]
  },
  {
   "cell_type": "markdown",
   "id": "fa5d9aa3",
   "metadata": {},
   "source": [
    "##Analysing churn by each variable"
   ]
  },
  {
   "cell_type": "code",
   "execution_count": null,
   "id": "d8df4612",
   "metadata": {},
   "outputs": [],
   "source": [
    "df.head()"
   ]
  },
  {
   "cell_type": "code",
   "execution_count": null,
   "id": "78c8b508",
   "metadata": {},
   "outputs": [],
   "source": [
    "d = {}\n",
    "\n",
    "for i in df.columns:\n",
    "    # Group by the column and get the sum of 'Churn', renaming it to 'Customers_churned'\n",
    "    churn_sum = df.groupby(i).Churn.sum().rename('Customers_churned')\n",
    "    \n",
    "    # Get value counts for the column\n",
    "    value_counts = df[i].value_counts().rename('Total_Customers')\n",
    "    \n",
    "    # Calculate percentage (ensure both are aligned first)\n",
    "    perc_of_total_cust = (churn_sum * 100 / value_counts).round(2).rename('perc_of_total_cust')\n",
    "    \n",
    "    # Combine them into a single DataFrame\n",
    "    temp_df = pd.concat([churn_sum, value_counts, perc_of_total_cust], axis=1)\n",
    "    \n",
    "    # Reset the index and rename the index column\n",
    "    temp_df.reset_index(level=0, inplace=True)\n",
    "    temp_df = temp_df.rename(columns={ 'index': i })\n",
    "    \n",
    "    # Store in the dictionary\n",
    "    d[i] = temp_df\n"
   ]
  },
  {
   "cell_type": "code",
   "execution_count": null,
   "id": "b580c64a",
   "metadata": {},
   "outputs": [],
   "source": [
    "for i in df.columns:\n",
    "    print(i)\n",
    "    print(d[i])\n",
    "    print()"
   ]
  },
  {
   "cell_type": "markdown",
   "id": "f476c5c9",
   "metadata": {},
   "source": [
    "## Analysing churn by each variable --by visualising via graphs"
   ]
  },
  {
   "cell_type": "code",
   "execution_count": null,
   "id": "7551afaa",
   "metadata": {},
   "outputs": [],
   "source": [
    "def analysis_chart(variable):\n",
    "  # definig the plot for matplotlib\n",
    "  plt.figure(figsize=(20,12))\n",
    "  fig, ax = plt.subplots()\n",
    "  # defining the title\n",
    "  title1 = 'Customers Churn analysed by ' + variable\n",
    "  plt.title(title1)\n",
    "  # defining the lines for the y -axis\n",
    "  line1 = ax.plot(d[variable][variable],d[variable]['Customers_churned'], color='lightskyblue', label = 'Customers churned')\n",
    "  line2 = ax.plot(d[variable][variable],d[variable]['Total_Customers'], color='dodgerblue', label = 'Total Customers')\n",
    "  # labelling the x -axis and y-axis\n",
    "  plt.xlabel (variable)\n",
    "  plt.ylabel ('No. of customers')\n",
    "  # rotating the labels on the x-axis for better visualisation\n",
    "  for tick in ax.get_xticklabels():\n",
    "    tick.set_rotation(45)\n",
    "  # defining another axis on the right side of the graph\n",
    "  ax2=ax.twinx()\n",
    "  # defining the line for the right side y -axis\n",
    "  line3 = ax2.plot(d[variable][variable],d[variable]['perc_of_total_cust'], color='yellowgreen', label = 'Churn as Percent of total')\n",
    "  y = 0*d[variable]['perc_of_total_cust']+20.25\n",
    "  line4 = ax2.plot(d[variable][variable], y, color='orangered', label='Average customer Churn', linestyle='dashed')\n",
    "  # labelling the right side y-axis\n",
    "  plt.ylabel ('percentage of customers churned')\n",
    "  # adding the three lines to show the legend on the right corner in a coherent place, not doing this will lead to overlapping of legends of lines belonging to left and right y axis\n",
    "  lines = line1+line2+line3+line4\n",
    "  labs = [l.get_label() for l in lines]\n",
    "  ax.legend(lines, labs, bbox_to_anchor=(1.7, 1))\n",
    "  # adding sns palette for better visualisation\n",
    "  sns.despine(ax=ax, right=True, left=True)\n",
    "  sns.despine(ax=ax2, left=True, right=False)"
   ]
  },
  {
   "cell_type": "code",
   "execution_count": null,
   "id": "cbb63c78",
   "metadata": {},
   "outputs": [],
   "source": [
    "col = ['Tenure', 'PreferredLoginDevice', 'CityTier',\n",
    "       'WarehouseToHome', 'PreferredPaymentMode', 'Gender', 'HourSpendOnApp',\n",
    "       'NumberOfDeviceRegistered', 'PreferedOrderCat', 'SatisfactionScore',\n",
    "       'MaritalStatus', 'NumberOfAddress', 'Complain',\n",
    "       'OrderAmountHikeFromlastYear', 'CouponUsed', 'OrderCount',\n",
    "       'DaySinceLastOrder']"
   ]
  },
  {
   "cell_type": "code",
   "execution_count": null,
   "id": "4a0cbbab",
   "metadata": {},
   "outputs": [],
   "source": [
    "analysis_chart('Tenure')"
   ]
  },
  {
   "cell_type": "code",
   "execution_count": null,
   "id": "050eab85",
   "metadata": {},
   "outputs": [],
   "source": [
    "analysis_chart('CityTier')\n"
   ]
  },
  {
   "cell_type": "code",
   "execution_count": null,
   "id": "6f8e3efe",
   "metadata": {},
   "outputs": [],
   "source": [
    "analysis_chart('WarehouseToHome')"
   ]
  },
  {
   "cell_type": "code",
   "execution_count": null,
   "id": "837ae030",
   "metadata": {},
   "outputs": [],
   "source": [
    "analysis_chart('PreferredPaymentMode')"
   ]
  },
  {
   "cell_type": "code",
   "execution_count": null,
   "id": "ac5159ed",
   "metadata": {},
   "outputs": [],
   "source": [
    "analysis_chart('Gender')\n"
   ]
  },
  {
   "cell_type": "code",
   "execution_count": null,
   "id": "543ea180",
   "metadata": {},
   "outputs": [],
   "source": [
    "analysis_chart('HourSpendOnApp')\n"
   ]
  },
  {
   "cell_type": "code",
   "execution_count": null,
   "id": "17edef8b",
   "metadata": {},
   "outputs": [],
   "source": [
    "analysis_chart('NumberOfDeviceRegistered')"
   ]
  },
  {
   "cell_type": "code",
   "execution_count": null,
   "id": "4a1c0cde",
   "metadata": {},
   "outputs": [],
   "source": [
    "analysis_chart('PreferedOrderCat')\n",
    "analysis_chart('SatisfactionScore')\n",
    "analysis_chart('MaritalStatus')\n",
    "analysis_chart('NumberOfAddress')\n",
    "analysis_chart('Complain')\n",
    "analysis_chart('OrderAmountHikeFromlastYear')\n",
    "analysis_chart('CouponUsed')\n",
    "analysis_chart('OrderCount')\n",
    "analysis_chart('DaySinceLastOrder')\n"
   ]
  },
  {
   "cell_type": "code",
   "execution_count": null,
   "id": "97d3bf0a",
   "metadata": {},
   "outputs": [],
   "source": [
    "# writing the loop for automating the figure generation\n",
    "# Writing the loop for one dataframe at a time since we need to have the figures in separate cells so that it becomes easy to analyse and write the conclusion there only.\n",
    "for i in ['avg_cashbk_per_order']:\n",
    "    # definig the plot for matplotlib\n",
    "    plt.figure(figsize=(20,12))\n",
    "    fig, ax = plt.subplots()\n",
    "    # defining the title\n",
    "    title1 = 'Customers Churn analysed by ' + i\n",
    "    plt.title(title1)\n",
    "    # defining the lines for the y -axis\n",
    "    line1 = ax.scatter(d[i][i],d[i]['Customers_churned'], color='lightskyblue', label = 'Customers churned')\n",
    "    line2 = ax.scatter(d[i][i],d[i]['Total_Customers'], color='dodgerblue', label = 'Total Customers')\n",
    "    # labelling the x -axis and y-axis\n",
    "    plt.xlabel (i)\n",
    "    plt.ylabel ('No. of customers')\n",
    "    # rotating the labels on the x-axis for better visualisation\n",
    "    for tick in ax.get_xticklabels():\n",
    "      tick.set_rotation(45)\n",
    "    # defining another axis on the right side of the graph\n",
    "    ax2=ax.twinx()\n",
    "    # defining the line for the right side y -axis\n",
    "    line3 = ax2.scatter(d[i][i],d[i]['perc_of_total_cust'], color='yellowgreen', label = 'Churn as Percent of total')\n",
    "    # labelling the right side y-axis\n",
    "    plt.ylabel ('percentage of customers churned')\n",
    "    # adding sns palette for better visualisation\n",
    "    sns.despine(ax=ax, right=True, left=True)\n",
    "    sns.despine(ax=ax2, left=True, right=False)"
   ]
  },
  {
   "cell_type": "markdown",
   "id": "0082b73e",
   "metadata": {},
   "source": [
    "# Bivariate analysis (some error currently)"
   ]
  },
  {
   "cell_type": "code",
   "execution_count": null,
   "id": "3f91c4f9",
   "metadata": {},
   "outputs": [],
   "source": [
    "plt.figure(figsize=(20,20))\n",
    "sns.heatmap(df.corr(),annot=True)"
   ]
  },
  {
   "cell_type": "markdown",
   "id": "5e1153be",
   "metadata": {},
   "source": [
    "# One hot encoding and Scaling of data"
   ]
  },
  {
   "cell_type": "code",
   "execution_count": null,
   "id": "7a746cb7",
   "metadata": {},
   "outputs": [],
   "source": [
    "df.head()\n"
   ]
  },
  {
   "cell_type": "code",
   "execution_count": null,
   "id": "e7c9186b",
   "metadata": {},
   "outputs": [],
   "source": [
    "df_encoded=df.copy()\n",
    "df_encoded.head()"
   ]
  },
  {
   "cell_type": "code",
   "execution_count": null,
   "id": "819df175",
   "metadata": {},
   "outputs": [],
   "source": [
    "df_encoded = pd.get_dummies(df_encoded,drop_first=True)"
   ]
  },
  {
   "cell_type": "code",
   "execution_count": 119,
   "id": "4c89ab38",
   "metadata": {},
   "outputs": [],
   "source": [
    "scaler = StandardScaler()\n"
   ]
  },
  {
   "cell_type": "code",
   "execution_count": 120,
   "id": "3c921b29",
   "metadata": {},
   "outputs": [],
   "source": [
    "features = df_encoded[num]\n",
    "features = scaler.fit_transform(features)"
   ]
  },
  {
   "cell_type": "code",
   "execution_count": 121,
   "id": "a48efcd0",
   "metadata": {},
   "outputs": [],
   "source": [
    "scaled_df_encoded = df_encoded.copy()\n"
   ]
  },
  {
   "cell_type": "code",
   "execution_count": 122,
   "id": "c2c0b1db",
   "metadata": {},
   "outputs": [],
   "source": [
    "scaled_df_encoded[num] = features\n"
   ]
  },
  {
   "cell_type": "code",
   "execution_count": 123,
   "id": "d4b27b0e",
   "metadata": {},
   "outputs": [
    {
     "data": {
      "text/html": [
       "<div>\n",
       "<style scoped>\n",
       "    .dataframe tbody tr th:only-of-type {\n",
       "        vertical-align: middle;\n",
       "    }\n",
       "\n",
       "    .dataframe tbody tr th {\n",
       "        vertical-align: top;\n",
       "    }\n",
       "\n",
       "    .dataframe thead th {\n",
       "        text-align: right;\n",
       "    }\n",
       "</style>\n",
       "<table border=\"1\" class=\"dataframe\">\n",
       "  <thead>\n",
       "    <tr style=\"text-align: right;\">\n",
       "      <th></th>\n",
       "      <th>Tenure</th>\n",
       "      <th>WarehouseToHome</th>\n",
       "      <th>HourSpendOnApp</th>\n",
       "      <th>NumberOfDeviceRegistered</th>\n",
       "      <th>SatisfactionScore</th>\n",
       "      <th>NumberOfAddress</th>\n",
       "      <th>Complain</th>\n",
       "      <th>OrderAmountHikeFromlastYear</th>\n",
       "      <th>CouponUsed</th>\n",
       "      <th>OrderCount</th>\n",
       "      <th>...</th>\n",
       "      <th>PreferredPaymentMode_E wallet</th>\n",
       "      <th>PreferredPaymentMode_UPI</th>\n",
       "      <th>Gender_Male</th>\n",
       "      <th>PreferedOrderCat_Grocery</th>\n",
       "      <th>PreferedOrderCat_Laptop &amp; Accessory</th>\n",
       "      <th>PreferedOrderCat_Mobile</th>\n",
       "      <th>PreferedOrderCat_Mobile Phone</th>\n",
       "      <th>PreferedOrderCat_Others</th>\n",
       "      <th>MaritalStatus_Married</th>\n",
       "      <th>MaritalStatus_Single</th>\n",
       "    </tr>\n",
       "  </thead>\n",
       "  <tbody>\n",
       "    <tr>\n",
       "      <th>0</th>\n",
       "      <td>-0.737959</td>\n",
       "      <td>-1.178795</td>\n",
       "      <td>0.092878</td>\n",
       "      <td>-0.738345</td>\n",
       "      <td>-0.772992</td>\n",
       "      <td>1.875626</td>\n",
       "      <td>1.584290</td>\n",
       "      <td>-1.304023</td>\n",
       "      <td>-0.411136</td>\n",
       "      <td>-0.888745</td>\n",
       "      <td>...</td>\n",
       "      <td>False</td>\n",
       "      <td>False</td>\n",
       "      <td>False</td>\n",
       "      <td>False</td>\n",
       "      <td>True</td>\n",
       "      <td>False</td>\n",
       "      <td>False</td>\n",
       "      <td>False</td>\n",
       "      <td>False</td>\n",
       "      <td>True</td>\n",
       "    </tr>\n",
       "    <tr>\n",
       "      <th>1</th>\n",
       "      <td>-0.134866</td>\n",
       "      <td>-0.931534</td>\n",
       "      <td>0.092878</td>\n",
       "      <td>0.323303</td>\n",
       "      <td>-0.048392</td>\n",
       "      <td>1.092812</td>\n",
       "      <td>1.584290</td>\n",
       "      <td>-0.187486</td>\n",
       "      <td>-1.344668</td>\n",
       "      <td>-0.888745</td>\n",
       "      <td>...</td>\n",
       "      <td>False</td>\n",
       "      <td>True</td>\n",
       "      <td>True</td>\n",
       "      <td>False</td>\n",
       "      <td>False</td>\n",
       "      <td>True</td>\n",
       "      <td>False</td>\n",
       "      <td>False</td>\n",
       "      <td>False</td>\n",
       "      <td>True</td>\n",
       "    </tr>\n",
       "    <tr>\n",
       "      <th>2</th>\n",
       "      <td>-0.134866</td>\n",
       "      <td>1.788340</td>\n",
       "      <td>-1.328053</td>\n",
       "      <td>0.323303</td>\n",
       "      <td>-0.048392</td>\n",
       "      <td>0.701405</td>\n",
       "      <td>1.584290</td>\n",
       "      <td>-0.466620</td>\n",
       "      <td>-1.344668</td>\n",
       "      <td>-0.888745</td>\n",
       "      <td>...</td>\n",
       "      <td>False</td>\n",
       "      <td>False</td>\n",
       "      <td>True</td>\n",
       "      <td>False</td>\n",
       "      <td>False</td>\n",
       "      <td>True</td>\n",
       "      <td>False</td>\n",
       "      <td>False</td>\n",
       "      <td>False</td>\n",
       "      <td>True</td>\n",
       "    </tr>\n",
       "    <tr>\n",
       "      <th>3</th>\n",
       "      <td>-1.220433</td>\n",
       "      <td>-0.066119</td>\n",
       "      <td>-1.328053</td>\n",
       "      <td>0.323303</td>\n",
       "      <td>1.400807</td>\n",
       "      <td>1.484219</td>\n",
       "      <td>-0.631198</td>\n",
       "      <td>2.045589</td>\n",
       "      <td>-1.344668</td>\n",
       "      <td>-0.888745</td>\n",
       "      <td>...</td>\n",
       "      <td>False</td>\n",
       "      <td>False</td>\n",
       "      <td>True</td>\n",
       "      <td>False</td>\n",
       "      <td>True</td>\n",
       "      <td>False</td>\n",
       "      <td>False</td>\n",
       "      <td>False</td>\n",
       "      <td>False</td>\n",
       "      <td>True</td>\n",
       "    </tr>\n",
       "    <tr>\n",
       "      <th>4</th>\n",
       "      <td>-1.220433</td>\n",
       "      <td>-0.437011</td>\n",
       "      <td>0.092878</td>\n",
       "      <td>-0.738345</td>\n",
       "      <td>1.400807</td>\n",
       "      <td>-0.472817</td>\n",
       "      <td>-0.631198</td>\n",
       "      <td>-1.304023</td>\n",
       "      <td>-0.411136</td>\n",
       "      <td>-0.888745</td>\n",
       "      <td>...</td>\n",
       "      <td>False</td>\n",
       "      <td>False</td>\n",
       "      <td>True</td>\n",
       "      <td>False</td>\n",
       "      <td>False</td>\n",
       "      <td>True</td>\n",
       "      <td>False</td>\n",
       "      <td>False</td>\n",
       "      <td>False</td>\n",
       "      <td>True</td>\n",
       "    </tr>\n",
       "    <tr>\n",
       "      <th>...</th>\n",
       "      <td>...</td>\n",
       "      <td>...</td>\n",
       "      <td>...</td>\n",
       "      <td>...</td>\n",
       "      <td>...</td>\n",
       "      <td>...</td>\n",
       "      <td>...</td>\n",
       "      <td>...</td>\n",
       "      <td>...</td>\n",
       "      <td>...</td>\n",
       "      <td>...</td>\n",
       "      <td>...</td>\n",
       "      <td>...</td>\n",
       "      <td>...</td>\n",
       "      <td>...</td>\n",
       "      <td>...</td>\n",
       "      <td>...</td>\n",
       "      <td>...</td>\n",
       "      <td>...</td>\n",
       "      <td>...</td>\n",
       "      <td>...</td>\n",
       "    </tr>\n",
       "    <tr>\n",
       "      <th>5625</th>\n",
       "      <td>-0.014247</td>\n",
       "      <td>1.788340</td>\n",
       "      <td>0.092878</td>\n",
       "      <td>-1.799993</td>\n",
       "      <td>-1.497592</td>\n",
       "      <td>0.701405</td>\n",
       "      <td>-0.631198</td>\n",
       "      <td>0.649917</td>\n",
       "      <td>-0.411136</td>\n",
       "      <td>-0.304276</td>\n",
       "      <td>...</td>\n",
       "      <td>False</td>\n",
       "      <td>False</td>\n",
       "      <td>True</td>\n",
       "      <td>False</td>\n",
       "      <td>True</td>\n",
       "      <td>False</td>\n",
       "      <td>False</td>\n",
       "      <td>False</td>\n",
       "      <td>True</td>\n",
       "      <td>False</td>\n",
       "    </tr>\n",
       "    <tr>\n",
       "      <th>5626</th>\n",
       "      <td>0.347609</td>\n",
       "      <td>-0.313381</td>\n",
       "      <td>0.092878</td>\n",
       "      <td>1.384951</td>\n",
       "      <td>1.400807</td>\n",
       "      <td>0.701405</td>\n",
       "      <td>-0.631198</td>\n",
       "      <td>0.091648</td>\n",
       "      <td>-0.411136</td>\n",
       "      <td>-0.304276</td>\n",
       "      <td>...</td>\n",
       "      <td>False</td>\n",
       "      <td>False</td>\n",
       "      <td>True</td>\n",
       "      <td>False</td>\n",
       "      <td>False</td>\n",
       "      <td>False</td>\n",
       "      <td>False</td>\n",
       "      <td>False</td>\n",
       "      <td>True</td>\n",
       "      <td>False</td>\n",
       "    </tr>\n",
       "    <tr>\n",
       "      <th>5627</th>\n",
       "      <td>-1.099814</td>\n",
       "      <td>-0.560642</td>\n",
       "      <td>0.092878</td>\n",
       "      <td>-1.799993</td>\n",
       "      <td>0.676207</td>\n",
       "      <td>-0.472817</td>\n",
       "      <td>1.584290</td>\n",
       "      <td>1.487320</td>\n",
       "      <td>-0.411136</td>\n",
       "      <td>-0.304276</td>\n",
       "      <td>...</td>\n",
       "      <td>False</td>\n",
       "      <td>False</td>\n",
       "      <td>True</td>\n",
       "      <td>False</td>\n",
       "      <td>True</td>\n",
       "      <td>False</td>\n",
       "      <td>False</td>\n",
       "      <td>False</td>\n",
       "      <td>True</td>\n",
       "      <td>False</td>\n",
       "    </tr>\n",
       "    <tr>\n",
       "      <th>5628</th>\n",
       "      <td>1.553794</td>\n",
       "      <td>-0.807903</td>\n",
       "      <td>1.513809</td>\n",
       "      <td>1.384951</td>\n",
       "      <td>0.676207</td>\n",
       "      <td>-0.081410</td>\n",
       "      <td>-0.631198</td>\n",
       "      <td>-0.187486</td>\n",
       "      <td>0.522397</td>\n",
       "      <td>-0.304276</td>\n",
       "      <td>...</td>\n",
       "      <td>False</td>\n",
       "      <td>False</td>\n",
       "      <td>True</td>\n",
       "      <td>False</td>\n",
       "      <td>True</td>\n",
       "      <td>False</td>\n",
       "      <td>False</td>\n",
       "      <td>False</td>\n",
       "      <td>True</td>\n",
       "      <td>False</td>\n",
       "    </tr>\n",
       "    <tr>\n",
       "      <th>5629</th>\n",
       "      <td>-0.255484</td>\n",
       "      <td>-0.066119</td>\n",
       "      <td>0.092878</td>\n",
       "      <td>-1.799993</td>\n",
       "      <td>-0.048392</td>\n",
       "      <td>-0.081410</td>\n",
       "      <td>-0.631198</td>\n",
       "      <td>-0.745755</td>\n",
       "      <td>0.522397</td>\n",
       "      <td>-0.304276</td>\n",
       "      <td>...</td>\n",
       "      <td>False</td>\n",
       "      <td>False</td>\n",
       "      <td>True</td>\n",
       "      <td>False</td>\n",
       "      <td>True</td>\n",
       "      <td>False</td>\n",
       "      <td>False</td>\n",
       "      <td>False</td>\n",
       "      <td>True</td>\n",
       "      <td>False</td>\n",
       "    </tr>\n",
       "  </tbody>\n",
       "</table>\n",
       "<p>5630 rows × 32 columns</p>\n",
       "</div>"
      ],
      "text/plain": [
       "        Tenure  WarehouseToHome  HourSpendOnApp  NumberOfDeviceRegistered  \\\n",
       "0    -0.737959        -1.178795        0.092878                 -0.738345   \n",
       "1    -0.134866        -0.931534        0.092878                  0.323303   \n",
       "2    -0.134866         1.788340       -1.328053                  0.323303   \n",
       "3    -1.220433        -0.066119       -1.328053                  0.323303   \n",
       "4    -1.220433        -0.437011        0.092878                 -0.738345   \n",
       "...        ...              ...             ...                       ...   \n",
       "5625 -0.014247         1.788340        0.092878                 -1.799993   \n",
       "5626  0.347609        -0.313381        0.092878                  1.384951   \n",
       "5627 -1.099814        -0.560642        0.092878                 -1.799993   \n",
       "5628  1.553794        -0.807903        1.513809                  1.384951   \n",
       "5629 -0.255484        -0.066119        0.092878                 -1.799993   \n",
       "\n",
       "      SatisfactionScore  NumberOfAddress  Complain  \\\n",
       "0             -0.772992         1.875626  1.584290   \n",
       "1             -0.048392         1.092812  1.584290   \n",
       "2             -0.048392         0.701405  1.584290   \n",
       "3              1.400807         1.484219 -0.631198   \n",
       "4              1.400807        -0.472817 -0.631198   \n",
       "...                 ...              ...       ...   \n",
       "5625          -1.497592         0.701405 -0.631198   \n",
       "5626           1.400807         0.701405 -0.631198   \n",
       "5627           0.676207        -0.472817  1.584290   \n",
       "5628           0.676207        -0.081410 -0.631198   \n",
       "5629          -0.048392        -0.081410 -0.631198   \n",
       "\n",
       "      OrderAmountHikeFromlastYear  CouponUsed  OrderCount  ...  \\\n",
       "0                       -1.304023   -0.411136   -0.888745  ...   \n",
       "1                       -0.187486   -1.344668   -0.888745  ...   \n",
       "2                       -0.466620   -1.344668   -0.888745  ...   \n",
       "3                        2.045589   -1.344668   -0.888745  ...   \n",
       "4                       -1.304023   -0.411136   -0.888745  ...   \n",
       "...                           ...         ...         ...  ...   \n",
       "5625                     0.649917   -0.411136   -0.304276  ...   \n",
       "5626                     0.091648   -0.411136   -0.304276  ...   \n",
       "5627                     1.487320   -0.411136   -0.304276  ...   \n",
       "5628                    -0.187486    0.522397   -0.304276  ...   \n",
       "5629                    -0.745755    0.522397   -0.304276  ...   \n",
       "\n",
       "      PreferredPaymentMode_E wallet  PreferredPaymentMode_UPI  Gender_Male  \\\n",
       "0                             False                     False        False   \n",
       "1                             False                      True         True   \n",
       "2                             False                     False         True   \n",
       "3                             False                     False         True   \n",
       "4                             False                     False         True   \n",
       "...                             ...                       ...          ...   \n",
       "5625                          False                     False         True   \n",
       "5626                          False                     False         True   \n",
       "5627                          False                     False         True   \n",
       "5628                          False                     False         True   \n",
       "5629                          False                     False         True   \n",
       "\n",
       "      PreferedOrderCat_Grocery  PreferedOrderCat_Laptop & Accessory  \\\n",
       "0                        False                                 True   \n",
       "1                        False                                False   \n",
       "2                        False                                False   \n",
       "3                        False                                 True   \n",
       "4                        False                                False   \n",
       "...                        ...                                  ...   \n",
       "5625                     False                                 True   \n",
       "5626                     False                                False   \n",
       "5627                     False                                 True   \n",
       "5628                     False                                 True   \n",
       "5629                     False                                 True   \n",
       "\n",
       "      PreferedOrderCat_Mobile  PreferedOrderCat_Mobile Phone  \\\n",
       "0                       False                          False   \n",
       "1                        True                          False   \n",
       "2                        True                          False   \n",
       "3                       False                          False   \n",
       "4                        True                          False   \n",
       "...                       ...                            ...   \n",
       "5625                    False                          False   \n",
       "5626                    False                          False   \n",
       "5627                    False                          False   \n",
       "5628                    False                          False   \n",
       "5629                    False                          False   \n",
       "\n",
       "      PreferedOrderCat_Others  MaritalStatus_Married  MaritalStatus_Single  \n",
       "0                       False                  False                  True  \n",
       "1                       False                  False                  True  \n",
       "2                       False                  False                  True  \n",
       "3                       False                  False                  True  \n",
       "4                       False                  False                  True  \n",
       "...                       ...                    ...                   ...  \n",
       "5625                    False                   True                 False  \n",
       "5626                    False                   True                 False  \n",
       "5627                    False                   True                 False  \n",
       "5628                    False                   True                 False  \n",
       "5629                    False                   True                 False  \n",
       "\n",
       "[5630 rows x 32 columns]"
      ]
     },
     "execution_count": 123,
     "metadata": {},
     "output_type": "execute_result"
    }
   ],
   "source": [
    "scaled_df_encoded\n"
   ]
  },
  {
   "cell_type": "markdown",
   "id": "f0c22575",
   "metadata": {},
   "source": [
    "# Now our data is preprocessed and ready to be used for training our model. "
   ]
  },
  {
   "cell_type": "code",
   "execution_count": null,
   "id": "f0a034c4",
   "metadata": {},
   "outputs": [],
   "source": []
  }
 ],
 "metadata": {
  "kernelspec": {
   "display_name": "Python 3",
   "language": "python",
   "name": "python3"
  },
  "language_info": {
   "codemirror_mode": {
    "name": "ipython",
    "version": 3
   },
   "file_extension": ".py",
   "mimetype": "text/x-python",
   "name": "python",
   "nbconvert_exporter": "python",
   "pygments_lexer": "ipython3",
   "version": "3.12.4"
  }
 },
 "nbformat": 4,
 "nbformat_minor": 5
}
